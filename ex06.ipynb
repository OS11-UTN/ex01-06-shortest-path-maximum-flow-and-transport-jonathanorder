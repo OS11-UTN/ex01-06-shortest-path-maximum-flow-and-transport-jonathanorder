{
 "cells": [
  {
   "cell_type": "code",
   "execution_count": 140,
   "metadata": {},
   "outputs": [
    {
     "name": "stdout",
     "output_type": "stream",
     "text": [
      "Input arguments:\n",
      "\n",
      " - A matrix:\n",
      " [[ 1  1  0  0  0  0]\n",
      " [ 0  0  1  1  0  0]\n",
      " [ 0  0  0  0  1  1]\n",
      " [-1  0 -1  0 -1  0]\n",
      " [ 0 -1  0 -1  0 -1]] \n",
      "- Cost matrix: \n",
      " [10 20 10 10 10 30] \n",
      "- b vector: \n",
      " [ 10  20  15 -25 -20] \n",
      "- Bounds: \n",
      " ((0, None), (0, None), (0, None), (0, None), (0, None), (0, None))\n",
      "\n",
      "Results:\n",
      "\n",
      "Quantities sent through each arc: \n",
      "(0, 3) -> 10\n",
      "(0, 4) -> 0\n",
      "(1, 3) -> 0\n",
      "(1, 4) -> 20\n",
      "(2, 3) -> 15\n",
      "(2, 4) -> 0\n",
      "\n",
      "Total Cost:  450.0\n"
     ]
    }
   ],
   "source": [
    "import numpy as np\n",
    "from scipy.optimize import linprog\n",
    "from basic_utils import nn2na\n",
    "from operator import itemgetter\n",
    "\n",
    "# Node-Node matrix\n",
    "NN = np.array([[0, 0, 0, 1, 1],\n",
    "               [0, 0, 0, 1, 1],\n",
    "               [0, 0, 0, 1, 1],\n",
    "               [0, 0, 0, 0, 0],\n",
    "               [0, 0, 0, 0, 0]])\n",
    "\n",
    "# A matrix, which is Node-arc matrix. Arcs is a tuple with dim(arcs) = #arcs in the graph\n",
    "A, arcs = nn2na(NN)\n",
    "\n",
    "# Cost matrix. Dim(C) = #Arcs\n",
    "C = np.array([10, 20, 10, 10, 10, 30])\n",
    "\n",
    "# b Matrix. Dim(b) = #nodes\n",
    "b = np.array([10, 20, 15, -25, -20])\n",
    "\n",
    "# Upper and lower bound.\n",
    "bounds = tuple([(0, None) for arc in range(0, A.shape[1])])\n",
    "\n",
    "print(\"Input arguments:\\n\\n\",\n",
    "\"- A matrix:\\n\", A,\n",
    "\"\\n- Cost matrix: \\n\", C,\n",
    "\"\\n- b vector: \\n\", b,\n",
    "\"\\n- Bounds: \\n\", bounds\n",
    ")\n",
    "   \n",
    "# OPTIMIZE:\n",
    "result = linprog(C, A_eq=A, b_eq=b, bounds=bounds, method='simplex')\n",
    "\n",
    "print(\"\\nResults:\")\n",
    "print(\"\\nQuantities sent through each arc: \")\n",
    "for i in range(len(result.x)):\n",
    "    print(arcs[i], \"->\", result.x[i].astype(int))\n",
    "print(\"\\nTotal Cost: \", result.fun)"
   ]
  }
 ],
 "metadata": {
  "kernelspec": {
   "display_name": "Python 3",
   "language": "python",
   "name": "python3"
  },
  "language_info": {
   "codemirror_mode": {
    "name": "ipython",
    "version": 3
   },
   "file_extension": ".py",
   "mimetype": "text/x-python",
   "name": "python",
   "nbconvert_exporter": "python",
   "pygments_lexer": "ipython3",
   "version": "3.6.5"
  }
 },
 "nbformat": 4,
 "nbformat_minor": 2
}
