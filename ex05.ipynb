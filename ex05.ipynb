{
 "cells": [
  {
   "cell_type": "code",
   "execution_count": 33,
   "metadata": {},
   "outputs": [],
   "source": [
    "class Arc:  \n",
    "    def __init__(self, u, v, w):\n",
    "        self.source = u\n",
    "        self.sink = v\n",
    "        self.cap = w                                               # Arc capacity (does not change)\n",
    "    \n",
    "class Graph:  \n",
    "    def __init__(self):\n",
    "        self.adj = {}                                              # List of lists: Nodes with their adjacencies\n",
    "        self.flow = {}                                             # List of lists: Arcs with their flows\n",
    "        self.minC = []\n",
    "        \n",
    "    # Method for adding Nodes in graph (disconnected)\n",
    "    def add_node(self, node):\n",
    "        self.adj[node] = []\n",
    "        \n",
    "    # Method for getting adyacent nodes of an specific node v\n",
    "    def get_arcs(self, v):\n",
    "        return self.adj[v]\n",
    "\n",
    "    # Method for connecting node u and v creating an arc object (it also adds a return edge named 'rarc' from v to u) \n",
    "    def add_arc(self, u, v, w=0):\n",
    "        arc = Arc(u, v, w)\n",
    "        rarc = Arc(v, u, 0)\n",
    "        arc.rarc = rarc\n",
    "        rarc.rarc = arc\n",
    "        self.adj[u].append(arc)                                   # Adding new arcs to adjacency node's list\n",
    "        self.adj[v].append(rarc)\n",
    "        self.flow[arc] = 0                                        # Initial flow for each is zero.\n",
    "        self.flow[rarc] = 0\n",
    "        \n",
    "    # Method for returning an augmenting path.\n",
    "    def DFS(self, source, sink, path):\n",
    "        if source == sink:                                        \n",
    "            return path\n",
    "        for arc in self.get_arcs(source):                         # For each edge of the initial node\n",
    "            residual = arc.cap - self.flow[arc]                   # residual = initial capacity - current flow\n",
    "            if residual > 0 and arc not in path:\n",
    "                result = self.DFS(arc.sink, sink, path + [arc])   # search the next step of the path\n",
    "                if result is not None:                            \n",
    "                    return result\n",
    "    \n",
    "    # Ford Fulkerson \n",
    "    def FordFulkerson(self, source, sink):\n",
    "        flowTot = 0\n",
    "        path = self.DFS(source, sink, [])\n",
    "        while path is not None:\n",
    "            resCap = [arc.cap - self.flow[arc] for arc in path]   # get all the residual capacities of the path\n",
    "            flow = min(resCap)                                    # current flow will be the minimum \n",
    "            flowTot += flow                                       \n",
    "            for arc in path:                                      # Add positive flow in arc and negative flow in rarc\n",
    "                self.flow[arc] += flow                            \n",
    "                self.flow[arc.rarc] -= flow\n",
    "            path = self.DFS(source, sink, [])\n",
    "        return flowTot"
   ]
  },
  {
   "cell_type": "code",
   "execution_count": 37,
   "metadata": {},
   "outputs": [
    {
     "name": "stdout",
     "output_type": "stream",
     "text": [
      "Maximum flow: 5\n"
     ]
    }
   ],
   "source": [
    "g = Graph()\n",
    "[g.add_node(v) for v in \"s2345t\"]\n",
    "\n",
    "g.add_arc('s', '2', 7)\n",
    "g.add_arc('s', '3', 1)\n",
    "g.add_arc('2', '4', 2)\n",
    "g.add_arc('2', 't', 3)\n",
    "g.add_arc('3', '5', 2)\n",
    "g.add_arc('4', 't', 1)\n",
    "g.add_arc('5', 't', 2)\n",
    "\n",
    "maxFlow = g.FordFulkerson('s', 't')\n",
    "print(\"Maximum flow:\", maxFlow)"
   ]
  }
 ],
 "metadata": {
  "kernelspec": {
   "display_name": "Python 3",
   "language": "python",
   "name": "python3"
  },
  "language_info": {
   "codemirror_mode": {
    "name": "ipython",
    "version": 3
   },
   "file_extension": ".py",
   "mimetype": "text/x-python",
   "name": "python",
   "nbconvert_exporter": "python",
   "pygments_lexer": "ipython3",
   "version": "3.6.5"
  }
 },
 "nbformat": 4,
 "nbformat_minor": 2
}
