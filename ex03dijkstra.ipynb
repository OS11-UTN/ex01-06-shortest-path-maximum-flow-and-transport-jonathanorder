{
 "cells": [
  {
   "cell_type": "code",
   "execution_count": 1,
   "metadata": {},
   "outputs": [
    {
     "data": {
      "text/plain": [
       "'\\nPseudocode: \\n\\nInitial values:\\nInitial node weight = 0\\nOther nodes weights = infinite\\nNon Explored nodes = all\\n\\nWhile there are Non Explored nodes:\\n    Chose the minimum weight non explored node as current\\n    Remove current from non explored nodes list\\n    For each current node successor:\\n        If succesor weight > current node weight + distance(current, successor)\\n             succesor weight = current node weight + distance(current, successor)\\n'"
      ]
     },
     "execution_count": 1,
     "metadata": {},
     "output_type": "execute_result"
    }
   ],
   "source": [
    "\n",
    "\n",
    "\"\"\"\n",
    "Pseudocode: \n",
    "\n",
    "Initial values:\n",
    "Initial node weight = 0\n",
    "Other nodes weights = infinite\n",
    "Non Explored nodes = all\n",
    "\n",
    "While there are Non Explored nodes:\n",
    "    Chose the minimum weight non explored node as current\n",
    "    Remove current from non explored nodes list\n",
    "    For each current node successor:\n",
    "        If succesor weight > current node weight + distance(current, successor)\n",
    "             succesor weight = current node weight + distance(current, successor)\n",
    "\"\"\""
   ]
  },
  {
   "cell_type": "code",
   "execution_count": 1,
   "metadata": {},
   "outputs": [],
   "source": [
    "\n",
    "# Arguments:\n",
    "# initial: initial node \n",
    "# nonExpl: non explored nodes list\n",
    "# dist: distance matrix. If distance <> 0, it shows the distance between a node (row) and its successor (column).\n",
    "\n",
    "import numpy as np\n",
    "\n",
    "\n",
    "# getCurrent returns the lowest weight non explored node.\n",
    "\n",
    "def getCurrent(w):\n",
    "    minW = np.inf\n",
    "    node = nonExpl[0]\n",
    "    for i in nonExpl:\n",
    "        if minW > w[i]:\n",
    "            minW = w[i]\n",
    "            node = i\n",
    "    return node\n",
    "\n",
    "# getArcs returns the current node succesors list.\n",
    "\n",
    "def getArcs():\n",
    "    arcs = [[] for x in range(dist.shape[0])]\n",
    "    for i in range(dist.shape[0]):\n",
    "        for j in range(dist.shape[0]):\n",
    "            if dist[i,j] > 0:\n",
    "                arcs[i].append(j)\n",
    "    return arcs\n",
    "\n",
    "# getPath returns optimal path\n",
    "\n",
    "def getPath(curr, pathPred):\n",
    "    path = [curr]\n",
    "    path.insert(0, pathPred[curr])\n",
    "    step = pathPred[5].astype(int)\n",
    "\n",
    "    while step > 0:\n",
    "        path.insert(0, pathPred[step.astype(int)])\n",
    "        step = pathPred[step.astype(int)]\n",
    "    \n",
    "    return path\n",
    "\n",
    "def dijkstra(nodes, dist, initial):\n",
    "    while len(nonExpl) > 0:\n",
    "        curr = getCurrent(w) \n",
    "        nonExpl.remove(curr)\n",
    "        for j in arcs[curr]:\n",
    "            if w[j] > w[curr] + dist[curr, j]:\n",
    "                w[j] = w[curr] + dist[curr, j]\n",
    "                pathPred[j] = curr  \n",
    "    return getPath(curr, pathPred)\n",
    "\n",
    "\n",
    "\n",
    "nodes = [0, 1, 2, 3, 4, 5]\n",
    "initial = 0\n",
    "nonExpl = nodes\n",
    "dist = np.array([\n",
    "        [0, 2, 2, 0, 0, 0],\n",
    "        [0, 0, 0, 2, 0, 5],\n",
    "        [0, 0, 0, 0, 2, 0],\n",
    "        [0, 0, 0, 0, 0, 1],\n",
    "        [0, 0, 0, 0, 0, 2],\n",
    "        [0, 0, 0, 0, 0, 0]])\n",
    "\n",
    "w = np.full((dist.shape[0]), np.inf)\n",
    "w[0] = initial\n",
    "pathPred = np.zeros(dist.shape[0])\n",
    "arcs = getArcs()   "
   ]
  },
  {
   "cell_type": "code",
   "execution_count": 79,
   "metadata": {},
   "outputs": [
    {
     "name": "stdout",
     "output_type": "stream",
     "text": [
      "Results: \n",
      "\n",
      "Shortest path value:  5.0\n",
      "Path nodes:  [0.0, 1.0, 3.0, 5]\n"
     ]
    }
   ],
   "source": [
    "path = dijkstra(nodes, dist, initial)\n",
    "\n",
    "print(\"Results: \\n\")\n",
    "print(\"Shortest path value: \", w[-1])  \n",
    "print(\"Path nodes: \", path)"
   ]
  }
 ],
 "metadata": {
  "kernelspec": {
   "display_name": "Python 3",
   "language": "python",
   "name": "python3"
  },
  "language_info": {
   "codemirror_mode": {
    "name": "ipython",
    "version": 3
   },
   "file_extension": ".py",
   "mimetype": "text/x-python",
   "name": "python",
   "nbconvert_exporter": "python",
   "pygments_lexer": "ipython3",
   "version": "3.6.5"
  }
 },
 "nbformat": 4,
 "nbformat_minor": 2
}
