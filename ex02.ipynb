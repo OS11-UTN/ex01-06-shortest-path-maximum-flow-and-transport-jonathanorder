{
 "cells": [
  {
   "cell_type": "code",
   "execution_count": 2,
   "metadata": {},
   "outputs": [],
   "source": [
    "import numpy as np\n",
    "from scipy.optimize import linprog\n",
    "from basic_utils import nn2na, get_selected_arcs"
   ]
  },
  {
   "cell_type": "code",
   "execution_count": 3,
   "metadata": {},
   "outputs": [],
   "source": [
    "#Data \n",
    "NN = np.array([[0, 1, 1, 0, 0, 0],\n",
    "               [0, 0, 0, 1, 0, 1],\n",
    "               [0, 0, 0, 0, 1, 0],\n",
    "               [0, 0, 0, 0, 0, 1],\n",
    "               [0, 0, 0, 0, 0, 1],\n",
    "               [0, 0, 0, 0, 0, 0]])\n",
    "\n",
    "C = np.array([2, 1, 2, 5, 2, 1, 2])\n",
    "A, arc_idxs = nn2na(NN)\n",
    "b = np.array([1, 0, 0, 0, 0, -1])\n",
    "bounds = tuple([(0, None) for arcs in range(0, A.shape[1])])"
   ]
  },
  {
   "cell_type": "code",
   "execution_count": 5,
   "metadata": {},
   "outputs": [
    {
     "name": "stdout",
     "output_type": "stream",
     "text": [
      "\n",
      " ## Results for simplex\n",
      "The raw solution will be: [0. 1. 0. 0. 1. 0. 1.]\n",
      "The arcs that make the shortest path will be (from, to): [(0, 2), (2, 4), (4, 5)]\n",
      "The minimum cost will be: 5.00 \n"
     ]
    }
   ],
   "source": [
    "# OPTIMIZE WITH SIMPLEX METHOD:\n",
    "res = linprog(C, A_eq=A, b_eq=b, bounds=bounds, method='simplex')\n",
    "\n",
    "# GET THE SOLUTION:\n",
    "selarcs = get_selected_arcs(arc_idxs, res.x)\n",
    "print('\\n ## Results for simplex')\n",
    "print('The raw solution will be: %s' % res.x)\n",
    "print('The arcs that make the shortest path will be (from, to): %s' % selarcs)\n",
    "print('The minimum cost will be: %0.2f ' % res.fun)"
   ]
  },
  {
   "cell_type": "code",
   "execution_count": 8,
   "metadata": {},
   "outputs": [
    {
     "name": "stderr",
     "output_type": "stream",
     "text": [
      "C:\\Users\\joni\\Anaconda3\\lib\\site-packages\\scipy\\optimize\\_linprog_ip.py:643: OptimizeWarning: A_eq does not appear to be of full row rank. To improve performance, check the problem formulation for redundant equality constraints.\n",
      "  warn(redundancy_warning, OptimizeWarning)\n"
     ]
    },
    {
     "name": "stdout",
     "output_type": "stream",
     "text": [
      "\n",
      " ## Results for interior point method\n",
      "The raw solution will be: [5.29117485e-01 4.70882515e-01 5.29117485e-01 1.92890662e-11\n",
      " 4.70882515e-01 5.29117485e-01 4.70882515e-01]\n",
      "The arcs that make the shortest path will be (from, to): []\n",
      "The minimum cost will be: 5.00 \n"
     ]
    }
   ],
   "source": [
    "# OPTIMIZE WITH INTERIOR POINT METHOD:\n",
    "res = linprog(C, A_eq=A, b_eq=b, bounds=bounds, method='interior-point')\n",
    "\n",
    "# GET THE SOLUTION:\n",
    "selarcs = get_selected_arcs(arc_idxs, res.x)\n",
    "print('\\n ## Results for interior point method')\n",
    "print('The raw solution will be: %s' % res.x)\n",
    "print('The arcs that make the shortest path will be (from, to): %s' % selarcs)\n",
    "print('The minimum cost will be: %0.2f ' % res.fun)"
   ]
  },
  {
   "cell_type": "code",
   "execution_count": null,
   "metadata": {},
   "outputs": [],
   "source": []
  }
 ],
 "metadata": {
  "kernelspec": {
   "display_name": "Python 3",
   "language": "python",
   "name": "python3"
  },
  "language_info": {
   "codemirror_mode": {
    "name": "ipython",
    "version": 3
   },
   "file_extension": ".py",
   "mimetype": "text/x-python",
   "name": "python",
   "nbconvert_exporter": "python",
   "pygments_lexer": "ipython3",
   "version": "3.6.5"
  }
 },
 "nbformat": 4,
 "nbformat_minor": 2
}
