{
 "cells": [
  {
   "cell_type": "code",
   "execution_count": 2,
   "metadata": {},
   "outputs": [],
   "source": [
    "import numpy as np\n",
    "import pandas as pd\n",
    "\n",
    "# Matrix treatment:\n",
    "def nn2na(NN):\n",
    "    idxs = np.argwhere(NN)\n",
    "    NA = np.zeros([NN.shape[0], idxs.shape[0]]).astype(int)\n",
    "    C = np.zeros(NA.shape[1])\n",
    "    for i, arc in enumerate(idxs):\n",
    "        NA[arc[0], i] = 1 # From\n",
    "        NA[arc[1], i] = -1 # To\n",
    "\n",
    "    arc_idxs = [(arc[0], arc[1]) for arc in idxs]\n",
    "\n",
    "    return  NA, arc_idxs"
   ]
  },
  {
   "cell_type": "code",
   "execution_count": 4,
   "metadata": {},
   "outputs": [
    {
     "data": {
      "text/plain": [
       "(array([[ 1, -1, -1,  0],\n",
       "        [ 0,  1,  0, -1],\n",
       "        [-1,  0,  1,  1]]), [(0, 2), (1, 0), (2, 0), (2, 1)])"
      ]
     },
     "execution_count": 4,
     "metadata": {},
     "output_type": "execute_result"
    }
   ],
   "source": [
    "x = np.array([[0, 0, 1],[1, 0, 0],[1, 1, 0]])\n",
    "nn2na(x)"
   ]
  }
 ],
 "metadata": {
  "kernelspec": {
   "display_name": "Python 3",
   "language": "python",
   "name": "python3"
  },
  "language_info": {
   "codemirror_mode": {
    "name": "ipython",
    "version": 3
   },
   "file_extension": ".py",
   "mimetype": "text/x-python",
   "name": "python",
   "nbconvert_exporter": "python",
   "pygments_lexer": "ipython3",
   "version": "3.6.5"
  }
 },
 "nbformat": 4,
 "nbformat_minor": 2
}
