{
 "cells": [
  {
   "cell_type": "markdown",
   "metadata": {},
   "source": [
    "ex03 - Dijkstra Algorithm"
   ]
  },
  {
   "cell_type": "code",
   "execution_count": null,
   "metadata": {},
   "outputs": [],
   "source": [
    "# Data\n",
    "\n",
    "# dij distance matrix\n",
    "# node - arc matrix\n",
    "# fixed nodes matrix\n",
    "# current node\n",
    "\n",
    "## Initial configurations\n",
    "\n",
    "# fixedNodes.append(node(s))\n",
    "# for each node not fixed\n",
    "#   node.value = None\n",
    "\n",
    "# for each node not fixed\n",
    "#   for each precedent\n",
    "#     if node.value > precedent.value + distancenp\n",
    "#       node.value = precedent.value + distancenp\n",
    "#   fixedNodes.append(node not fixed with min value)   \n",
    "\n",
    "## Results\n",
    "# Shortest path value = node(t).value\n"
   ]
  }
 ],
 "metadata": {
  "kernelspec": {
   "display_name": "Python 3",
   "language": "python",
   "name": "python3"
  },
  "language_info": {
   "codemirror_mode": {
    "name": "ipython",
    "version": 3
   },
   "file_extension": ".py",
   "mimetype": "text/x-python",
   "name": "python",
   "nbconvert_exporter": "python",
   "pygments_lexer": "ipython3",
   "version": "3.6.5"
  }
 },
 "nbformat": 4,
 "nbformat_minor": 2
}
