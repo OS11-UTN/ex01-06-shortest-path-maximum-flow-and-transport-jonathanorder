{
 "cells": [
  {
   "cell_type": "markdown",
   "metadata": {},
   "source": [
    "ex03 - Dijkstra Algorithm"
   ]
  },
  {
   "cell_type": "code",
   "execution_count": 5,
   "metadata": {},
   "outputs": [
    {
     "data": {
      "text/plain": [
       "'\\n Data\\n\\n dij distance matrix\\n node - arc matrix\\n fixed nodes matrix\\n current node\\n\\n Initial configurations\\n node(s).value = 0\\n fixedNodes.append(node(s))\\n for each node not in fixedNodes\\n   node.value = None\\n\\nfor each node not fixed\\n   for each precedent\\n     if node.value > precedent.value + distancenp\\n       node.value = precedent.value + distancenp\\n   fixedNodes.append(node not fixed with min value)   \\n\\nResults\\nShortest path value = node(t).value\\n\\n'"
      ]
     },
     "execution_count": 5,
     "metadata": {},
     "output_type": "execute_result"
    }
   ],
   "source": [
    "\"\"\"\n",
    " Data\n",
    "\n",
    " dij distance matrix\n",
    " node - arc matrix\n",
    " fixed nodes matrix\n",
    " current node\n",
    "\n",
    " Initial configurations\n",
    " weight(0) = 0\n",
    " nonFixedNodes.extract(node(0))\n",
    " for each weight in nonFixedNodes\n",
    "   peso.value = inf\n",
    "\n",
    "for each node not fixed\n",
    "   for each precedent\n",
    "     if node.value > precedent.value + distancenp\n",
    "       node.value = precedent.value + distancenp\n",
    "   fixedNodes.append(node not fixed with min value)   \n",
    "\n",
    "Results\n",
    "Shortest path value = node(t).value\n",
    "\n",
    "\"\"\""
   ]
  },
  {
   "cell_type": "code",
   "execution_count": 3,
   "metadata": {},
   "outputs": [
    {
     "ename": "NameError",
     "evalue": "name 'fixed' is not defined",
     "output_type": "error",
     "traceback": [
      "\u001b[1;31m---------------------------------------------------------------------------\u001b[0m",
      "\u001b[1;31mNameError\u001b[0m                                 Traceback (most recent call last)",
      "\u001b[1;32m<ipython-input-3-4cf5f9be688d>\u001b[0m in \u001b[0;36m<module>\u001b[1;34m()\u001b[0m\n\u001b[0;32m     14\u001b[0m \u001b[0mweights\u001b[0m\u001b[1;33m.\u001b[0m\u001b[0mfill\u001b[0m\u001b[1;33m(\u001b[0m\u001b[0mnp\u001b[0m\u001b[1;33m.\u001b[0m\u001b[0minf\u001b[0m\u001b[1;33m)\u001b[0m\u001b[1;33m\u001b[0m\u001b[0m\n\u001b[0;32m     15\u001b[0m \u001b[0mweights\u001b[0m\u001b[1;33m[\u001b[0m\u001b[1;36m0\u001b[0m\u001b[1;33m]\u001b[0m \u001b[1;33m=\u001b[0m \u001b[1;36m0\u001b[0m\u001b[1;33m\u001b[0m\u001b[0m\n\u001b[1;32m---> 16\u001b[1;33m \u001b[0mfixed\u001b[0m\u001b[1;33m.\u001b[0m\u001b[0mappend\u001b[0m\u001b[1;33m(\u001b[0m\u001b[0mnodes\u001b[0m\u001b[1;33m[\u001b[0m\u001b[1;36m0\u001b[0m\u001b[1;33m]\u001b[0m\u001b[1;33m)\u001b[0m\u001b[1;33m\u001b[0m\u001b[0m\n\u001b[0m\u001b[0;32m     17\u001b[0m \u001b[0mcurr\u001b[0m \u001b[1;33m=\u001b[0m \u001b[0mnodes\u001b[0m\u001b[1;33m[\u001b[0m\u001b[1;36m0\u001b[0m\u001b[1;33m]\u001b[0m\u001b[1;33m\u001b[0m\u001b[0m\n\u001b[0;32m     18\u001b[0m \u001b[0msuc\u001b[0m \u001b[1;33m=\u001b[0m \u001b[0mnp\u001b[0m\u001b[1;33m.\u001b[0m\u001b[0margwhere\u001b[0m\u001b[1;33m(\u001b[0m\u001b[0mdist\u001b[0m\u001b[1;33m)\u001b[0m\u001b[1;33m\u001b[0m\u001b[0m\n",
      "\u001b[1;31mNameError\u001b[0m: name 'fixed' is not defined"
     ]
    }
   ],
   "source": [
    "import numpy as np\n",
    "dist = np.array([\n",
    "        [0, 2, 2, 0, 0, 0],\n",
    "        [0, 0, 0, 2, 0, 5],\n",
    "        [0, 0, 0, 0, 2, 0],\n",
    "        [0, 0, 0, 0, 0, 1],\n",
    "        [0, 0, 0, 0, 0, 2],\n",
    "        [0, 0, 0, 0, 0, 0]\n",
    "    ])\n",
    "\n",
    "nodes = ['s','2','3','4','5','t']\n",
    "\n",
    "weights = np.zeros(dist[0].shape)\n",
    "weights.fill(np.inf)\n",
    "weights[0] = 0\n",
    "fixed.append(nodes[0])\n",
    "curr = nodes[0]\n",
    "suc = np.argwhere(dist)\n",
    "\n",
    "while len(fixed)!=len(nodes):\n",
    "    \n",
    "    \n",
    "    curr = np.min(weights)\n",
    "\n",
    "\n",
    "\n",
    "\n",
    "    \n",
    "    \n",
    "    "
   ]
  },
  {
   "cell_type": "code",
   "execution_count": 4,
   "metadata": {},
   "outputs": [],
   "source": [
    "import numpy as np\n",
    "class Node: \n",
    "    def __init__(self, name, weight, suc):\n",
    "        self.name = name\n",
    "        self.weight = np.inf\n",
    "        self.suc = suc\n",
    "    def calculateWeight(nodePrec, dist):\n",
    "        if self.weight > nodePrec + dist:\n",
    "            self.weight = nodePrec + dist\n",
    "    \n",
    "    "
   ]
  },
  {
   "cell_type": "code",
   "execution_count": 115,
   "metadata": {},
   "outputs": [],
   "source": [
    "\n",
    "## Parámetros: nodes y initial\n",
    "# nodes es la lista de nodos, y en este caso va de 0 a 5. Viene por parámetro.\n",
    "# initial es el nodo inicial\n",
    "nodes = [0, 1, 2, 3, 4, 5]\n",
    "initial = 0\n",
    "# nonExpl es la lista de nodos no explorados. \n",
    "# tiene la posición del nodo en la lista de nodos. La inicial es la 0.\n",
    "nonExpl = nodes\n",
    "\n",
    "# dist es la matriz de distancias, donde los valores <> 0 indican la distancia entre un nodo (fila) y su sucesor (columna).\n",
    "dist = np.array([\n",
    "        [0, 2, 2, 0, 0, 0],\n",
    "        [0, 0, 0, 2, 0, 5],\n",
    "        [0, 0, 0, 0, 2, 0],\n",
    "        [0, 0, 0, 0, 0, 1],\n",
    "        [0, 0, 0, 0, 0, 2],\n",
    "        [0, 0, 0, 0, 0, 0]])\n",
    "\n",
    "# arcs es la lista de sucesores de cada nodo. Es una lista de nodos donde cada nodo tiene una lista de sucesores. \n",
    "# Se obtiene a partir de la lista de distancias, tomando los valores distintos de cero.\n",
    "\n",
    "arcs = [[] for x in range(6)]\n",
    "\n",
    "for i in range(6):\n",
    "    for j in range(6):\n",
    "        if dist[i,j] > 0:\n",
    "            arcs[i].append(j)\n",
    "  "
   ]
  },
  {
   "cell_type": "code",
   "execution_count": 116,
   "metadata": {},
   "outputs": [
    {
     "ename": "IndentationError",
     "evalue": "unindent does not match any outer indentation level (<ipython-input-116-4601acb368fc>, line 7)",
     "output_type": "error",
     "traceback": [
      "\u001b[1;36m  File \u001b[1;32m\"<ipython-input-116-4601acb368fc>\"\u001b[1;36m, line \u001b[1;32m7\u001b[0m\n\u001b[1;33m    minW = w[i]\u001b[0m\n\u001b[1;37m               ^\u001b[0m\n\u001b[1;31mIndentationError\u001b[0m\u001b[1;31m:\u001b[0m unindent does not match any outer indentation level\n"
     ]
    }
   ],
   "source": [
    "          \n",
    "# getCurrent trae el nodo de menor peso entre los no explorados.\n",
    "def getCurrent():\n",
    "    minW = np.inf\n",
    "    for i in nonExpl:\n",
    "        if minW > w[i]:\n",
    "            minW = w[i]\n",
    "            node = i;\n",
    "    return node\n",
    "    \n",
    "\"\"\"\n",
    "Valores iniciales: \n",
    "Peso del nodo inicial = 0\n",
    "Peso del resto de los nodos = infinito\n",
    "No explorados = todos los nodos.\n",
    "\n",
    "Cuerpo de la función: \n",
    "Mientras haya nodos no explorados:\n",
    "    Elijo el nodo actual que es el de mínimo de los no explorados.\n",
    "    Lo saco de la lista de los no explorados. \n",
    "    Para cada sucesor del nodo actual:\n",
    "        Actualizo pesos como el minimo entre el peso del sucesor y el peso del actual más la distancia.\n",
    "\"\"\" \n",
    "   \n",
    "\n",
    "w = np.full((6), np.inf)\n",
    "w[initial] = 0\n",
    "nonExpl = nodes\n",
    "\n",
    "while len(nonExpl) > 0:\n",
    "    curr = getCurrent()  \n",
    "    #nonExpl = np.delete(nonExpl, curr)\n",
    "    nonExpl.pop(curr)\n",
    "    for j in range(6):\n",
    "        if w[j] > w[curr] + dist[curr, j]:\n",
    "            w[j] = w[curr] + dist[curr, j]        \n",
    "        "
   ]
  },
  {
   "cell_type": "code",
   "execution_count": 105,
   "metadata": {},
   "outputs": [
    {
     "data": {
      "text/plain": [
       "[[1, 2], [3, 5], [4], [5], [5], []]"
      ]
     },
     "execution_count": 105,
     "metadata": {},
     "output_type": "execute_result"
    }
   ],
   "source": [
    "nodes = [0, 1, 2, 3, 4, 5]\n",
    "dist = np.array([\n",
    "        [0, 2, 2, 0, 0, 0],\n",
    "        [0, 0, 0, 2, 0, 5],\n",
    "        [0, 0, 0, 0, 2, 0],\n",
    "        [0, 0, 0, 0, 0, 1],\n",
    "        [0, 0, 0, 0, 0, 2],\n",
    "        [0, 0, 0, 0, 0, 0]])\n",
    "\n",
    "arcs = [[] for x in range(6)]\n",
    "\n",
    "for i in range(6):\n",
    "    for j in range(6):\n",
    "        if dist[i,j] > 0:\n",
    "            arcs[i].append(j)\n",
    "            \n",
    "arcs"
   ]
  },
  {
   "cell_type": "code",
   "execution_count": 113,
   "metadata": {},
   "outputs": [
    {
     "data": {
      "text/plain": [
       "[1]"
      ]
     },
     "execution_count": 113,
     "metadata": {},
     "output_type": "execute_result"
    }
   ],
   "source": [
    "curr = getCurrent()\n",
    "nonExpl"
   ]
  },
  {
   "cell_type": "code",
   "execution_count": null,
   "metadata": {},
   "outputs": [],
   "source": []
  },
  {
   "cell_type": "code",
   "execution_count": null,
   "metadata": {},
   "outputs": [],
   "source": []
  }
 ],
 "metadata": {
  "kernelspec": {
   "display_name": "Python 3",
   "language": "python",
   "name": "python3"
  },
  "language_info": {
   "codemirror_mode": {
    "name": "ipython",
    "version": 3
   },
   "file_extension": ".py",
   "mimetype": "text/x-python",
   "name": "python",
   "nbconvert_exporter": "python",
   "pygments_lexer": "ipython3",
   "version": "3.6.5"
  }
 },
 "nbformat": 4,
 "nbformat_minor": 2
}
