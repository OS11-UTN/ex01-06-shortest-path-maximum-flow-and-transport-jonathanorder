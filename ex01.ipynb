{
 "cells": [
  {
   "cell_type": "code",
   "execution_count": 21,
   "metadata": {},
   "outputs": [],
   "source": [
    "from basic_utils import nn2na, get_selected_arcs\n",
    "import numpy as np\n",
    "from scipy.optimize import linprog"
   ]
  },
  {
   "cell_type": "markdown",
   "metadata": {},
   "source": [
    "Data"
   ]
  },
  {
   "cell_type": "code",
   "execution_count": 23,
   "metadata": {},
   "outputs": [],
   "source": [
    "NN = np.array([[0, 1, 1, 0, 0, 0],\n",
    "              [0, 0, 0, 1, 0, 1],\n",
    "              [0, 0, 0, 0, 1, 0],\n",
    "              [0, 0, 0, 0, 0, 1],\n",
    "              [0, 0, 0, 0, 0, 1],\n",
    "              [0, 0, 0, 0, 0, 0]])\n",
    "C = np.array([2, 2, 2, 5, 2, 1, 2]) # cost Matrix\n",
    "A, arcs = nn2na(NN)                 # technologic coef. Matrix\n",
    "b = np.array([1, 0, 0, 0, 0, -1])   # indep. term \n",
    "bounds = tuple([(0, None) for arcs in range(0, A.shape[1])])"
   ]
  },
  {
   "cell_type": "code",
   "execution_count": 25,
   "metadata": {},
   "outputs": [
    {
     "data": {
      "text/plain": [
       "     fun: 5.0\n",
       " message: 'Optimization terminated successfully.'\n",
       "     nit: 6\n",
       "   slack: array([], dtype=float64)\n",
       "  status: 0\n",
       " success: True\n",
       "       x: array([1., 0., 1., 0., 0., 1., 0.])"
      ]
     },
     "execution_count": 25,
     "metadata": {},
     "output_type": "execute_result"
    }
   ],
   "source": [
    "# Calculating the Objective function \n",
    "res = linprog(C, A_eq=A, b_eq=b, bounds=bounds)"
   ]
  },
  {
   "cell_type": "code",
   "execution_count": 27,
   "metadata": {},
   "outputs": [
    {
     "name": "stdout",
     "output_type": "stream",
     "text": [
      "## Results ##\n",
      "The raw solution will be: [1. 0. 1. 0. 0. 1. 0.]\n",
      "The arcs that make the shortest path will be (from, to): [(0, 1), (1, 3), (3, 5)]\n",
      "The minimum cost will be: 5.00 \n"
     ]
    }
   ],
   "source": [
    "# Showing the results\n",
    "selarcs = get_selected_arcs(arcs, res.x)\n",
    "print('## Results ##')\n",
    "print('The raw solution will be: %s' % res.x)\n",
    "print('The arcs that make the shortest path will be (from, to): %s' % selarcs)\n",
    "print('The minimum cost will be: %0.2f ' % res.fun)"
   ]
  }
 ],
 "metadata": {
  "kernelspec": {
   "display_name": "Python 3",
   "language": "python",
   "name": "python3"
  },
  "language_info": {
   "codemirror_mode": {
    "name": "ipython",
    "version": 3
   },
   "file_extension": ".py",
   "mimetype": "text/x-python",
   "name": "python",
   "nbconvert_exporter": "python",
   "pygments_lexer": "ipython3",
   "version": "3.6.5"
  }
 },
 "nbformat": 4,
 "nbformat_minor": 2
}
